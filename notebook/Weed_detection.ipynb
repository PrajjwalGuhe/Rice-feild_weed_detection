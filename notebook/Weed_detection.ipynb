{
 "cells": [
  {
   "cell_type": "markdown",
   "id": "b5b434ec-5bba-4843-a540-559003752b2f",
   "metadata": {},
   "source": [
    "#### saving the working dir path as HOME"
   ]
  },
  {
   "cell_type": "code",
   "execution_count": 3,
   "id": "da839597-39e9-4790-91e1-4ce7f2bc912d",
   "metadata": {},
   "outputs": [
    {
     "name": "stdout",
     "output_type": "stream",
     "text": [
      "d:\\Rice-feild_weed_detection\\notebook\n"
     ]
    }
   ],
   "source": [
    "import os\n",
    "HOME = os.getcwd()\n",
    "print(HOME)\n",
    "\n",
    "os.makedirs(\"../datasets\")"
   ]
  },
  {
   "cell_type": "markdown",
   "id": "da10ebe5-14ec-4ef7-9af1-b78c42116497",
   "metadata": {},
   "source": [
    "#### Data ingestion"
   ]
  },
  {
   "cell_type": "code",
   "execution_count": 8,
   "id": "3e730340-d695-4535-ae76-c60cf088858b",
   "metadata": {},
   "outputs": [
    {
     "name": "stdout",
     "output_type": "stream",
     "text": [
      "loading Roboflow workspace...\n",
      "loading Roboflow project...\n"
     ]
    },
    {
     "name": "stderr",
     "output_type": "stream",
     "text": [
      "Downloading Dataset Version Zip in Weed-Detection-2-1 to yolov8:: 100%|██████████| 10086/10086 [00:02<00:00, 3393.36it/s]"
     ]
    },
    {
     "name": "stdout",
     "output_type": "stream",
     "text": [
      "\n"
     ]
    },
    {
     "name": "stderr",
     "output_type": "stream",
     "text": [
      "\n",
      "Extracting Dataset Version Zip to Weed-Detection-2-1 in yolov8:: 100%|██████████| 1548/1548 [00:00<00:00, 1845.77it/s]\n"
     ]
    }
   ],
   "source": [
    "from roboflow import Roboflow\n",
    "os.chdir(\"../datasets\")\n",
    "\n",
    "rf = Roboflow(api_key=API_KEY)\n",
    "project = rf.workspace(\"prajjwalc2c\").project(\"weed-detection-2-urrww\")\n",
    "version = project.version(1)\n",
    "\n",
    "dataset = version.download(\"yolov8\")\n"
   ]
  },
  {
   "cell_type": "markdown",
   "id": "8d40be0a-7385-4a0e-af78-e9847ed44217",
   "metadata": {},
   "source": [
    "#### Imports"
   ]
  },
  {
   "cell_type": "code",
   "execution_count": 9,
   "id": "3375906a-b9a7-42aa-bfde-c3d61b929622",
   "metadata": {
    "scrolled": true
   },
   "outputs": [
    {
     "name": "stderr",
     "output_type": "stream",
     "text": [
      "Ultralytics YOLOv8.0.196  Python-3.9.20 torch-2.4.1+cpu CPU (Intel Core(TM) i7-4790T 2.70GHz)\n",
      "Setup complete  (8 CPUs, 15.9 GB RAM, 77.4/465.8 GB disk)\n"
     ]
    }
   ],
   "source": [
    "import ultralytics\n",
    "ultralytics.checks()\n",
    "\n",
    "from ultralytics import YOLO\n",
    "\n",
    "from IPython.display import display, Image"
   ]
  },
  {
   "cell_type": "code",
   "execution_count": 11,
   "id": "3b15ff78",
   "metadata": {},
   "outputs": [
    {
     "data": {
      "text/plain": [
       "{'d:\\\\Rice-feild_weed_detection\\\\datasets\\\\Weed-Detection-2-1'}"
      ]
     },
     "execution_count": 11,
     "metadata": {},
     "output_type": "execute_result"
    }
   ],
   "source": [
    "{dataset.location}"
   ]
  },
  {
   "cell_type": "markdown",
   "id": "2c62f30a-7bf7-4e04-a7de-3e808332898e",
   "metadata": {},
   "source": [
    "#### Model Training"
   ]
  },
  {
   "cell_type": "code",
   "execution_count": 10,
   "id": "2ac30750-b5ed-4286-8f3e-a0807a90f120",
   "metadata": {},
   "outputs": [
    {
     "name": "stdout",
     "output_type": "stream",
     "text": [
      "^C\n"
     ]
    }
   ],
   "source": [
    "!yolo task=detect mode=train epochs=10 imgsz=640 batch=32 plots=True model=weights/yolov8m.pt data={dataset.location}/data.yaml"
   ]
  },
  {
   "cell_type": "markdown",
   "id": "80099a77-7d76-4ee7-9877-e766fb5d080c",
   "metadata": {},
   "source": [
    "#### Validation"
   ]
  },
  {
   "cell_type": "code",
   "execution_count": null,
   "id": "19023b42-2589-4e17-9d2d-227da32e5182",
   "metadata": {},
   "outputs": [],
   "source": [
    "%cd {HOME}\n",
    "\n",
    "!yolo task=detect mode=val model={HOME}/runs/detect/train/weights/best.pt data={dataset.location}/data.yaml"
   ]
  },
  {
   "cell_type": "markdown",
   "id": "be209438-60e7-4588-883c-d55829b1fb42",
   "metadata": {},
   "source": [
    "#### Prediction"
   ]
  },
  {
   "cell_type": "code",
   "execution_count": null,
   "id": "c92f36b9-a509-4bc5-b43d-3c544f65a1d0",
   "metadata": {},
   "outputs": [],
   "source": [
    "%cd {HOME}\n",
    "!yolo task=detect mode=predict model={HOME}/runs/detect/train20/weights/best.pt conf=0.25 source={dataset.location}/weed_rice_video.mp4 save=True"
   ]
  }
 ],
 "metadata": {
  "kernelspec": {
   "display_name": "Python 3 (ipykernel)",
   "language": "python",
   "name": "python3"
  },
  "language_info": {
   "codemirror_mode": {
    "name": "ipython",
    "version": 3
   },
   "file_extension": ".py",
   "mimetype": "text/x-python",
   "name": "python",
   "nbconvert_exporter": "python",
   "pygments_lexer": "ipython3",
   "version": "3.9.20"
  }
 },
 "nbformat": 4,
 "nbformat_minor": 5
}
